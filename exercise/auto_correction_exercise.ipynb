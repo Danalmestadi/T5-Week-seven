{
  "cells": [
    {
      "cell_type": "markdown",
      "metadata": {
        "id": "view-in-github",
        "colab_type": "text"
      },
      "source": [
        "<a href=\"https://colab.research.google.com/github/Danalmestadi/T5-Week-seven/blob/main/auto_correction_exercise.ipynb\" target=\"_parent\"><img src=\"https://colab.research.google.com/assets/colab-badge.svg\" alt=\"Open In Colab\"/></a>"
      ]
    },
    {
      "cell_type": "markdown",
      "id": "8e8b6f85",
      "metadata": {
        "id": "8e8b6f85"
      },
      "source": [
        "# Auto-Correction Exercise\n",
        "\n",
        "This exercise will guide you through building an auto-correct system in Python. Follow the instructions in each step to complete the implementation."
      ]
    },
    {
      "cell_type": "markdown",
      "id": "b4ed5e99",
      "metadata": {
        "id": "b4ed5e99"
      },
      "source": [
        "## Step 1: Import Libraries\n",
        "\n",
        "Import the necessary libraries"
      ]
    },
    {
      "cell_type": "code",
      "execution_count": 1,
      "id": "c58dfc7e",
      "metadata": {
        "id": "c58dfc7e"
      },
      "outputs": [],
      "source": [
        "import os\n",
        "import re\n",
        "import numpy as np\n",
        "import pandas as pd\n",
        "from collections import Counter\n",
        "import nltk"
      ]
    },
    {
      "cell_type": "markdown",
      "id": "f849129e",
      "metadata": {
        "id": "f849129e"
      },
      "source": [
        "## Step 2: Load Data\n",
        "\n",
        "Load a trusted text corpus to build the auto-correct system."
      ]
    },
    {
      "cell_type": "code",
      "execution_count": 2,
      "id": "df8d28c4",
      "metadata": {
        "id": "df8d28c4",
        "colab": {
          "base_uri": "https://localhost:8080/",
          "height": 69
        },
        "outputId": "aca2ea14-85a1-4958-b181-81bdccf3c759"
      },
      "outputs": [
        {
          "output_type": "execute_result",
          "data": {
            "text/plain": [
              "\"Data science is one of the hottest jobs of this century. There are so many career opportunities for you today if you know how to work with data. But Data Scientists often face many challenges if they're not in big tech companies like FAANG. So in this article, I'm going to introduce you to some of the major challenges you may face in a data science job.\\n\""
            ],
            "application/vnd.google.colaboratory.intrinsic+json": {
              "type": "string"
            }
          },
          "metadata": {},
          "execution_count": 2
        }
      ],
      "source": [
        "\n",
        "# Load the corpus\n",
        "with open('challenge.txt', 'r', encoding='ISO-8859-1') as f:\n",
        "    file = f.readlines()\n",
        "\n",
        "# A small sample of the corpus\n",
        "file[0][:3000]\n"
      ]
    },
    {
      "cell_type": "markdown",
      "id": "ffa045c9",
      "metadata": {
        "id": "ffa045c9"
      },
      "source": [
        "## Step 3: Data Processing\n",
        "\n",
        "Tokenize the text and convert all characters to lowercase to clean the data."
      ]
    },
    {
      "cell_type": "code",
      "execution_count": 3,
      "id": "41511573",
      "metadata": {
        "id": "41511573",
        "colab": {
          "base_uri": "https://localhost:8080/"
        },
        "outputId": "2b0fed45-1783-4334-bb53-dfd6e86818f3"
      },
      "outputs": [
        {
          "output_type": "stream",
          "name": "stdout",
          "text": [
            "The first ten words in the text are: \n",
            "['data', 'science', 'is', 'one', 'of', 'the', 'hottest', 'jobs', 'of', 'this']\n",
            "There are 215 unique words in the vocabulary.\n"
          ]
        }
      ],
      "source": [
        "\n",
        "def process_data(lines):\n",
        "    words = []\n",
        "    for line in lines:\n",
        "        line = line.strip().lower()\n",
        "        word = re.findall(r'\\w+', line)\n",
        "        words.extend(word)\n",
        "    return words\n",
        "\n",
        "word_l = process_data(file)\n",
        "vocab = set(word_l)\n",
        "print(f\"The first ten words in the text are: \\n{word_l[0:10]}\")\n",
        "print(f\"There are {len(vocab)} unique words in the vocabulary.\")\n"
      ]
    },
    {
      "cell_type": "markdown",
      "id": "8999b61e",
      "metadata": {
        "id": "8999b61e"
      },
      "source": [
        "\n",
        "## Step 4: Architecture Overview\n",
        "\n",
        "This auto-correct architecture has four main components:\n",
        "\n",
        "1. **Filtering Mispells**: Check if a word is in the vocabulary.\n",
        "2. **Word Suggestion Mechanism**: Suggest candidate words based on various edit operations.\n",
        "3. **Probability Distribution Mechanism**: Calculate the probability of each candidate word.\n",
        "4. **Replace Mispells**: Replace the misspelled word with the most probable suggestion.\n",
        "\n",
        "Implement each part step-by-step in the cells below.\n"
      ]
    },
    {
      "cell_type": "markdown",
      "id": "ee2c7bfc",
      "metadata": {
        "id": "ee2c7bfc"
      },
      "source": [
        "### Step 4.1: Filtering Mispells\n",
        "\n",
        "Write a function to identify words not present in the vocabulary."
      ]
    },
    {
      "cell_type": "code",
      "execution_count": 4,
      "id": "a18cb2c2",
      "metadata": {
        "id": "a18cb2c2",
        "colab": {
          "base_uri": "https://localhost:8080/"
        },
        "outputId": "fae76148-d670-4f5e-ea83-79bb8007e83f"
      },
      "outputs": [
        {
          "output_type": "execute_result",
          "data": {
            "text/plain": [
              "['century.']"
            ]
          },
          "metadata": {},
          "execution_count": 4
        }
      ],
      "source": [
        "\n",
        "def find_wrong_word(sent, vocab):\n",
        "    wrong_words = []\n",
        "    sent = sent.strip().lower().split(\" \")\n",
        "    for word in sent:\n",
        "        if word not in vocab:\n",
        "            wrong_words.append(word)\n",
        "    return wrong_words\n",
        "\n",
        "find_wrong_word('Data science is one of the hottest jobs of this century.', vocab)\n"
      ]
    },
    {
      "cell_type": "markdown",
      "id": "c5ae5fef",
      "metadata": {
        "id": "c5ae5fef"
      },
      "source": [
        "### Step 4.2: Word Suggestion Mechanism\n",
        "\n",
        "Implement functions to suggest words by deleting, switching, replacing, or inserting characters."
      ]
    },
    {
      "cell_type": "code",
      "execution_count": 5,
      "id": "9647c078",
      "metadata": {
        "id": "9647c078",
        "colab": {
          "base_uri": "https://localhost:8080/"
        },
        "outputId": "f7b008fe-e1f5-4642-9c8b-9743d7db22f0"
      },
      "outputs": [
        {
          "output_type": "stream",
          "name": "stdout",
          "text": [
            "input word : cans \n",
            "split_l = [('', 'cans'), ('c', 'ans'), ('ca', 'ns'), ('can', 's')], \n",
            "delete_l = ['ans', 'cns', 'cas', 'can']\n"
          ]
        }
      ],
      "source": [
        "# Delete letter\n",
        "\n",
        "def delete_letter(word, verbose=False):\n",
        "    delete_l = []\n",
        "    split_l = [(word[:i], word[i:]) for i in range(len(word))]\n",
        "    delete_l = [s[0]+s[1][1:] for s in split_l]\n",
        "    if verbose: print(f\"input word : {word} \\nsplit_l = {split_l}, \\ndelete_l = {delete_l}\")\n",
        "    return delete_l\n",
        "\n",
        "delete_word_l = delete_letter(word=\"cans\", verbose=True)\n"
      ]
    },
    {
      "cell_type": "code",
      "source": [
        "# Switch letter\n",
        "\n",
        "def switch_letter(word, verbose=False):\n",
        "    switch_l = []\n",
        "    split_l = [(word[:i], word[i:]) for i in range(len(word))]\n",
        "    for s in split_l:\n",
        "        if len(s[1]) > 2:\n",
        "            temp = s[0] + s[1][1] + s[1][0] + s[1][2:]\n",
        "        elif len(s[1]) == 2:\n",
        "            temp = s[0] + s[1][1] + s[1][0]\n",
        "        elif len(s[1]) == 1:\n",
        "            continue\n",
        "        switch_l.append(temp)\n",
        "    if verbose: print(f\"Input word = {word} \\nsplit_l = {split_l} \\nswitch_l = {switch_l}\")\n",
        "    return switch_l\n",
        "\n",
        "switch_word_l = switch_letter(word=\"data\", verbose=True)\n"
      ],
      "metadata": {
        "id": "7MOCW5n7uVba",
        "colab": {
          "base_uri": "https://localhost:8080/"
        },
        "outputId": "b177dfef-a33a-40cf-d2a6-de35a3965205"
      },
      "id": "7MOCW5n7uVba",
      "execution_count": 8,
      "outputs": [
        {
          "output_type": "stream",
          "name": "stdout",
          "text": [
            "Input word = data \n",
            "split_l = [('', 'data'), ('d', 'ata'), ('da', 'ta'), ('dat', 'a')] \n",
            "switch_l = ['adta', 'dtaa', 'daat']\n"
          ]
        }
      ]
    },
    {
      "cell_type": "code",
      "source": [
        "# Replace letter\n",
        "\n",
        "def replace_letter(word, verbose=False):\n",
        "    letters = 'abcdefghijklmnopqrstuvwxyz'\n",
        "    replace_l = []\n",
        "    split_l = [(word[:i], word[i:]) for i in range(len(word))]\n",
        "    for s in split_l:\n",
        "        if len(s[1]) == 1:\n",
        "            for l in letters:\n",
        "                if l != s[1][0]:\n",
        "                    replace_l.append(s[0] + l)\n",
        "        elif len(s[1]) > 1:\n",
        "            for l in letters:\n",
        "                if l != s[1][0]:\n",
        "                    replace_l.append(s[0] + l + s[1][1:])\n",
        "    replace_set = set(replace_l)\n",
        "    replace_l = sorted(list(replace_set))\n",
        "    if verbose: print(f\"Input word = {word} \\nsplit_l = {split_l} \\nreplace_l = {replace_l}\")\n",
        "    return replace_l\n",
        "\n",
        "replace_l = replace_letter(word='job', verbose=True)\n"
      ],
      "metadata": {
        "id": "Mv-tOycduVL_",
        "colab": {
          "base_uri": "https://localhost:8080/"
        },
        "outputId": "5077dc56-0e2c-4d79-d8ec-0ba0feaaf1d2"
      },
      "id": "Mv-tOycduVL_",
      "execution_count": 9,
      "outputs": [
        {
          "output_type": "stream",
          "name": "stdout",
          "text": [
            "Input word = job \n",
            "split_l = [('', 'job'), ('j', 'ob'), ('jo', 'b')] \n",
            "replace_l = ['aob', 'bob', 'cob', 'dob', 'eob', 'fob', 'gob', 'hob', 'iob', 'jab', 'jbb', 'jcb', 'jdb', 'jeb', 'jfb', 'jgb', 'jhb', 'jib', 'jjb', 'jkb', 'jlb', 'jmb', 'jnb', 'joa', 'joc', 'jod', 'joe', 'jof', 'jog', 'joh', 'joi', 'joj', 'jok', 'jol', 'jom', 'jon', 'joo', 'jop', 'joq', 'jor', 'jos', 'jot', 'jou', 'jov', 'jow', 'jox', 'joy', 'joz', 'jpb', 'jqb', 'jrb', 'jsb', 'jtb', 'jub', 'jvb', 'jwb', 'jxb', 'jyb', 'jzb', 'kob', 'lob', 'mob', 'nob', 'oob', 'pob', 'qob', 'rob', 'sob', 'tob', 'uob', 'vob', 'wob', 'xob', 'yob', 'zob']\n"
          ]
        }
      ]
    },
    {
      "cell_type": "code",
      "source": [
        "# Insert letter\n",
        "\n",
        "def insert_letter(word, verbose=False):\n",
        "    letters = 'abcdefghijklmnopqrstuvwxyz'\n",
        "    insert_l = []\n",
        "    split_l = [(word[:i], word[i:]) for i in range(len(word)+1)]\n",
        "    for s in split_l:\n",
        "        for l in letters:\n",
        "            insert_l.append(s[0] + l + s[1])\n",
        "    if verbose: print(f\"Input word {word} \\nsplit_l = {split_l} \\ninsert_l = {insert_l}\")\n",
        "    return insert_l\n",
        "\n",
        "insert_l = insert_letter('is', True)\n",
        "print(f\"Number of strings output by insert_letter('at') is {len(insert_l)}\")\n"
      ],
      "metadata": {
        "id": "e-CAlWzkuUcq",
        "colab": {
          "base_uri": "https://localhost:8080/"
        },
        "outputId": "06c2fbc1-668d-499b-be6d-1242637b8e94"
      },
      "id": "e-CAlWzkuUcq",
      "execution_count": 10,
      "outputs": [
        {
          "output_type": "stream",
          "name": "stdout",
          "text": [
            "Input word is \n",
            "split_l = [('', 'is'), ('i', 's'), ('is', '')] \n",
            "insert_l = ['ais', 'bis', 'cis', 'dis', 'eis', 'fis', 'gis', 'his', 'iis', 'jis', 'kis', 'lis', 'mis', 'nis', 'ois', 'pis', 'qis', 'ris', 'sis', 'tis', 'uis', 'vis', 'wis', 'xis', 'yis', 'zis', 'ias', 'ibs', 'ics', 'ids', 'ies', 'ifs', 'igs', 'ihs', 'iis', 'ijs', 'iks', 'ils', 'ims', 'ins', 'ios', 'ips', 'iqs', 'irs', 'iss', 'its', 'ius', 'ivs', 'iws', 'ixs', 'iys', 'izs', 'isa', 'isb', 'isc', 'isd', 'ise', 'isf', 'isg', 'ish', 'isi', 'isj', 'isk', 'isl', 'ism', 'isn', 'iso', 'isp', 'isq', 'isr', 'iss', 'ist', 'isu', 'isv', 'isw', 'isx', 'isy', 'isz']\n",
            "Number of strings output by insert_letter('at') is 78\n"
          ]
        }
      ]
    },
    {
      "cell_type": "markdown",
      "id": "5c6197fc",
      "metadata": {
        "id": "5c6197fc"
      },
      "source": [
        "**Combining Functions for Word Suggestions**\n",
        "\n",
        "Combine the functions to edit one or two characters in a word."
      ]
    },
    {
      "cell_type": "code",
      "execution_count": 11,
      "id": "e9229d4d",
      "metadata": {
        "id": "e9229d4d"
      },
      "outputs": [],
      "source": [
        "# Edit one letter\n",
        "\n",
        "def edit_one_letter(word, allow_switches=True):\n",
        "    edit_one_set = set()\n",
        "    insert_l = insert_letter(word)\n",
        "    delete_l = delete_letter(word)\n",
        "    replace_l = replace_letter(word)\n",
        "    switch_l = switch_letter(word)\n",
        "    if allow_switches:\n",
        "        ans = insert_l + delete_l + replace_l + switch_l\n",
        "    else:\n",
        "        ans = insert_l + delete_l + replace_l\n",
        "    edit_one_set = set(ans)\n",
        "    return edit_one_set\n",
        "\n",
        "\n"
      ]
    },
    {
      "cell_type": "code",
      "source": [
        "tmp_word = \"job\"\n",
        "tmp_edit_one_set = edit_one_letter(tmp_word)\n",
        "tmp_edit_one_l = sorted(list(tmp_edit_one_set))\n",
        "\n",
        "print(f\"input word : {tmp_word} \\nedit_one_l \\n{tmp_edit_one_l}\\n\")\n",
        "print(f\"Number of outputs from edit_one_letter('at') is {len(edit_one_letter('at'))}\")"
      ],
      "metadata": {
        "colab": {
          "base_uri": "https://localhost:8080/"
        },
        "id": "hC3qHQjAivNy",
        "outputId": "5c7c9ca4-0c84-4c6b-edf9-acc485b0f067"
      },
      "id": "hC3qHQjAivNy",
      "execution_count": 12,
      "outputs": [
        {
          "output_type": "stream",
          "name": "stdout",
          "text": [
            "input word : job \n",
            "edit_one_l \n",
            "['ajob', 'aob', 'bjob', 'bob', 'cjob', 'cob', 'djob', 'dob', 'ejob', 'eob', 'fjob', 'fob', 'gjob', 'gob', 'hjob', 'hob', 'ijob', 'iob', 'jab', 'jaob', 'jb', 'jbb', 'jbo', 'jbob', 'jcb', 'jcob', 'jdb', 'jdob', 'jeb', 'jeob', 'jfb', 'jfob', 'jgb', 'jgob', 'jhb', 'jhob', 'jib', 'jiob', 'jjb', 'jjob', 'jkb', 'jkob', 'jlb', 'jlob', 'jmb', 'jmob', 'jnb', 'jnob', 'jo', 'joa', 'joab', 'joba', 'jobb', 'jobc', 'jobd', 'jobe', 'jobf', 'jobg', 'jobh', 'jobi', 'jobj', 'jobk', 'jobl', 'jobm', 'jobn', 'jobo', 'jobp', 'jobq', 'jobr', 'jobs', 'jobt', 'jobu', 'jobv', 'jobw', 'jobx', 'joby', 'jobz', 'joc', 'jocb', 'jod', 'jodb', 'joe', 'joeb', 'jof', 'jofb', 'jog', 'jogb', 'joh', 'johb', 'joi', 'joib', 'joj', 'jojb', 'jok', 'jokb', 'jol', 'jolb', 'jom', 'jomb', 'jon', 'jonb', 'joo', 'joob', 'jop', 'jopb', 'joq', 'joqb', 'jor', 'jorb', 'jos', 'josb', 'jot', 'jotb', 'jou', 'joub', 'jov', 'jovb', 'jow', 'jowb', 'jox', 'joxb', 'joy', 'joyb', 'joz', 'jozb', 'jpb', 'jpob', 'jqb', 'jqob', 'jrb', 'jrob', 'jsb', 'jsob', 'jtb', 'jtob', 'jub', 'juob', 'jvb', 'jvob', 'jwb', 'jwob', 'jxb', 'jxob', 'jyb', 'jyob', 'jzb', 'jzob', 'kjob', 'kob', 'ljob', 'lob', 'mjob', 'mob', 'njob', 'nob', 'ob', 'ojb', 'ojob', 'oob', 'pjob', 'pob', 'qjob', 'qob', 'rjob', 'rob', 'sjob', 'sob', 'tjob', 'tob', 'ujob', 'uob', 'vjob', 'vob', 'wjob', 'wob', 'xjob', 'xob', 'yjob', 'yob', 'zjob', 'zob']\n",
            "\n",
            "Number of outputs from edit_one_letter('at') is 129\n"
          ]
        }
      ]
    },
    {
      "cell_type": "code",
      "source": [
        "# Edit two letters\n",
        "def edit_two_letters(word, allow_switches = True):\n",
        "    '''\n",
        "    Input:\n",
        "        word: the input string/word\n",
        "    Output:\n",
        "        edit_two_set: a set of strings with all possible two edits\n",
        "    '''\n",
        "\n",
        "    edit_two_set = set()\n",
        "    one_edit = edit_one_letter(word)\n",
        "    ans = []\n",
        "    for w in one_edit:\n",
        "        ans.append(w)\n",
        "        ans.extend(edit_one_letter(w))\n",
        "\n",
        "    edit_two_set = set(ans)\n",
        "\n",
        "    return edit_two_set"
      ],
      "metadata": {
        "id": "UCSWEhMyu3ys"
      },
      "id": "UCSWEhMyu3ys",
      "execution_count": 13,
      "outputs": []
    },
    {
      "cell_type": "code",
      "source": [
        "tmp_edit_two_set = edit_two_letters(\"d\")\n",
        "tmp_edit_two_l = sorted(list(tmp_edit_two_set))\n",
        "print(f\"Number of strings with edit distance of two: {len(tmp_edit_two_l)}\")\n",
        "print(f\"First 10 strings {tmp_edit_two_l[:10]}\")\n",
        "print(f\"Last 10 strings {tmp_edit_two_l[-10:]}\")\n",
        "print(f\"The data type of the returned object should be a set {type(tmp_edit_two_set)}\")\n",
        "print(f\"Number of strings that are 2 edit distances from 'at' is {len(edit_two_letters('data'))}\")"
      ],
      "metadata": {
        "colab": {
          "base_uri": "https://localhost:8080/"
        },
        "id": "9WssF0H5i2UC",
        "outputId": "ea29f137-c551-4e59-c7ff-5c213b0dc564"
      },
      "id": "9WssF0H5i2UC",
      "execution_count": 15,
      "outputs": [
        {
          "output_type": "stream",
          "name": "stdout",
          "text": [
            "Number of strings with edit distance of two: 2654\n",
            "First 10 strings ['', 'a', 'aa', 'aad', 'ab', 'abd', 'ac', 'acd', 'ad', 'ada']\n",
            "Last 10 strings ['zv', 'zvd', 'zw', 'zwd', 'zx', 'zxd', 'zy', 'zyd', 'zz', 'zzd']\n",
            "The data type of the returned object should be a set <class 'set'>\n",
            "Number of strings that are 2 edit distances from 'at' is 24201\n"
          ]
        }
      ]
    },
    {
      "cell_type": "markdown",
      "id": "1f9a5ac0",
      "metadata": {
        "id": "1f9a5ac0"
      },
      "source": [
        "### Step 4.3: Probability Distribution\n",
        "\n",
        "Calculate the frequency of each word in the corpus and compute the probability distribution."
      ]
    },
    {
      "cell_type": "code",
      "execution_count": 18,
      "id": "5462dd60",
      "metadata": {
        "id": "5462dd60",
        "colab": {
          "base_uri": "https://localhost:8080/"
        },
        "outputId": "37fe9a14-b244-4459-8a8a-b62be83ca372"
      },
      "outputs": [
        {
          "output_type": "stream",
          "name": "stdout",
          "text": [
            "There are 215 key values pairs\n",
            "The count for the word 'is' is 15\n"
          ]
        }
      ],
      "source": [
        "\n",
        "def get_count(word_l):\n",
        "    word_count_dict = Counter(word_l)\n",
        "    return word_count_dict\n",
        "\n",
        "word_count_dict = get_count(word_l)\n",
        "print(f\"There are {len(word_count_dict)} key values pairs\")\n",
        "print(f\"The count for the word 'is' is {word_count_dict.get('is',0)}\")\n"
      ]
    },
    {
      "cell_type": "code",
      "source": [
        "\n",
        "def get_probs(word_count_dict):\n",
        "    probs = {}\n",
        "    total = sum(word_count_dict.values())\n",
        "    for word in word_count_dict.keys():\n",
        "        probs[word] = word_count_dict[word] / total\n",
        "    return probs\n",
        "\n",
        "probs = get_probs(word_count_dict)\n",
        "print(f\"Length of probs is {len(probs)}\")\n",
        "print(f\"P('you') is {probs['you']:.4f}\")\n"
      ],
      "metadata": {
        "id": "S2xKryxPvCLu",
        "colab": {
          "base_uri": "https://localhost:8080/"
        },
        "outputId": "665fe60f-4128-4c36-b875-c21baadad49b"
      },
      "id": "S2xKryxPvCLu",
      "execution_count": 19,
      "outputs": [
        {
          "output_type": "stream",
          "name": "stdout",
          "text": [
            "Length of probs is 215\n",
            "P('you') is 0.0390\n"
          ]
        }
      ]
    },
    {
      "cell_type": "code",
      "source": [
        "\n",
        "# Display probability distribution\n",
        "prob_df = pd.DataFrame({'word': probs.keys(), 'probability': probs.values()}).sort_values(by='probability', ascending=False)\n",
        "prob_df.sample(5)\n",
        "\n",
        "prob_df.head().plot.bar(x='word', y='probability')\n"
      ],
      "metadata": {
        "id": "1R6ZGPmYvClz",
        "colab": {
          "base_uri": "https://localhost:8080/",
          "height": 484
        },
        "outputId": "a29392ec-db67-4e48-a9da-f12a4e81c28d"
      },
      "id": "1R6ZGPmYvClz",
      "execution_count": 20,
      "outputs": [
        {
          "output_type": "execute_result",
          "data": {
            "text/plain": [
              "<Axes: xlabel='word'>"
            ]
          },
          "metadata": {},
          "execution_count": 20
        },
        {
          "output_type": "display_data",
          "data": {
            "text/plain": [
              "<Figure size 640x480 with 1 Axes>"
            ],
            "image/png": "[encoded data removed]"
          },
          "metadata": {}
        }
      ]
    },
    {
      "cell_type": "markdown",
      "id": "8aebeba6",
      "metadata": {
        "id": "8aebeba6"
      },
      "source": [
        "### Step 4.4: Replace Misspells with Correction\n",
        "\n",
        "Write a function to replace misspelled words with the most probable corrections."
      ]
    },
    {
      "cell_type": "code",
      "execution_count": 21,
      "id": "b8a61c93",
      "metadata": {
        "id": "b8a61c93",
        "colab": {
          "base_uri": "https://localhost:8080/",
          "height": 35
        },
        "outputId": "ea1b61c7-34f4-479e-acc3-bef4800dd75b"
      },
      "outputs": [
        {
          "output_type": "execute_result",
          "data": {
            "text/plain": [
              "'and'"
            ],
            "application/vnd.google.colaboratory.intrinsic+json": {
              "type": "string"
            }
          },
          "metadata": {},
          "execution_count": 21
        }
      ],
      "source": [
        "# Your code here to replace misspells\n",
        "\n",
        "def get_corrections(word, probs, vocab, n=2, verbose=False):\n",
        "    suggestions = []\n",
        "    n_best = []\n",
        "\n",
        "    if word in probs.keys():\n",
        "        suggestions.append(word)\n",
        "    for w in edit_one_letter(word):\n",
        "        if len(suggestions) == n:\n",
        "            break\n",
        "        if w in probs.keys():\n",
        "            suggestions.append(w)\n",
        "    for w in edit_two_letters(word):\n",
        "        if len(suggestions) == n:\n",
        "            break\n",
        "        if w in probs.keys():\n",
        "            suggestions.append(w)\n",
        "\n",
        "    best_words = sorted({s: probs[s] for s in suggestions}.items(), key=lambda x: x[1], reverse=True)\n",
        "    n_best = best_words\n",
        "\n",
        "    if verbose: print(\"entered word = \", word, \"\\nsuggestions = \", suggestions)\n",
        "    return n_best\n",
        "\n",
        "def get_correct_word(word, vocab, probs, n):\n",
        "    corrections = get_corrections(word, probs, vocab, n, verbose=False)\n",
        "    if len(corrections) == 0:\n",
        "        return word\n",
        "\n",
        "    final_word = corrections[0][0]\n",
        "    final_prob = corrections[0][1]\n",
        "    for i, word_prob in enumerate(corrections):\n",
        "        if word_prob[1] > final_prob:\n",
        "            final_word = word_prob[0]\n",
        "            final_prob = word_prob[1]\n",
        "    return final_word\n",
        "\n",
        "get_correct_word('annd', vocab, probs, 100)\n"
      ]
    },
    {
      "cell_type": "markdown",
      "id": "baff1c00",
      "metadata": {
        "id": "baff1c00"
      },
      "source": [
        "### Step 5: Final Auto-Correction Function\n",
        "\n",
        "Combine all parts into a final function that corrects sentences."
      ]
    },
    {
      "cell_type": "code",
      "execution_count": 22,
      "id": "974eb839",
      "metadata": {
        "id": "974eb839"
      },
      "outputs": [],
      "source": [
        "# Your code here for the final auto-correction function\n",
        "\n",
        "def autocorrect(sentence, vocab, probs):\n",
        "    print(\"Input sentence : \", sentence)\n",
        "    wrong_words = find_wrong_word(sentence, vocab)\n",
        "    print(\"Wrong words : \", wrong_words)\n",
        "    correct_words = []\n",
        "    for word in sentence.strip().lower().split(\" \"):\n",
        "        if word in wrong_words:\n",
        "            correct_word = get_correct_word(word, vocab, probs, 15)\n",
        "            word = correct_word\n",
        "        correct_words.append(word)\n",
        "    print(\"Output Sentence : \", \" \".join(correct_words).capitalize())\n",
        "\n"
      ]
    },
    {
      "cell_type": "markdown",
      "metadata": {
        "id": "O01DcmYtvOlh"
      },
      "source": [
        "### Step 6: Demo\n",
        "\n",
        "Apply your work to a sentence"
      ],
      "id": "O01DcmYtvOlh"
    },
    {
      "cell_type": "code",
      "source": [
        "autocorrect(\"Thee are so mannny career opportunitiessw for you today if you know how to work with data\", vocab, probs)\n"
      ],
      "metadata": {
        "id": "juIS0GFovX02",
        "colab": {
          "base_uri": "https://localhost:8080/"
        },
        "outputId": "f2651c69-c816-44ca-bd50-b4a22fe6c3aa"
      },
      "id": "juIS0GFovX02",
      "execution_count": 23,
      "outputs": [
        {
          "output_type": "stream",
          "name": "stdout",
          "text": [
            "Input sentence :  Thee are so mannny career opportunitiessw for you today if you know how to work with data\n",
            "Wrong words :  ['thee', 'mannny', 'opportunitiessw']\n",
            "Output Sentence :  The are so many career opportunities for you today if you know how to work with data\n"
          ]
        }
      ]
    }
  ],
  "metadata": {
    "colab": {
      "provenance": [],
      "include_colab_link": true
    },
    "language_info": {
      "name": "python"
    },
    "kernelspec": {
      "name": "python3",
      "display_name": "Python 3"
    }
  },
  "nbformat": 4,
  "nbformat_minor": 5
}
